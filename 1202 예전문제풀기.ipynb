{
 "cells": [
  {
   "cell_type": "code",
   "execution_count": 78,
   "metadata": {},
   "outputs": [],
   "source": [
    "score_list = [\n",
    "    [\"김미희\", 89, 78, 99],\n",
    "    [\"황해도\", 67, 88, 77],\n",
    "    [\"박병관\", 100, 55, 96],\n",
    "    [\"김동원\", 20, 10, 20]\n",
    "]"
   ]
  },
  {
   "cell_type": "code",
   "execution_count": 79,
   "metadata": {
    "scrolled": true
   },
   "outputs": [
    {
     "name": "stdout",
     "output_type": "stream",
     "text": [
      "============================================\n",
      "이름   Python   Java    DB     평균     학점\n",
      "============================================\n"
     ]
    }
   ],
   "source": [
    "print(\"============================================\")\n",
    "print(\"이름   Python   Java    DB     평균     학점\")\n",
    "print(\"============================================\")"
   ]
  },
  {
   "cell_type": "code",
   "execution_count": 80,
   "metadata": {},
   "outputs": [],
   "source": [
    "# 이름빼고 가져올 거니까 j=1부터 시작\n",
    "avg_list=[]\n",
    "grade_list=[]\n",
    "\n",
    "#평균 구하기\n",
    "for i in score_list:\n",
    "    sum=0\n",
    "    for j in range(1,len(i)):\n",
    "        sum+=i[j]\n",
    "    avg_list.append(int(sum/3))\n",
    "    #실수로 나오기 때문에 int로 형변환\n",
    "    \n",
    "# 학점 구하기    \n",
    "for i in avg_list:\n",
    "    if i >= 90:\n",
    "         grade_list.append(\"A\")\n",
    "    elif i >= 80 :\n",
    "        grade_list.append(\"B\")\n",
    "    elif i >= 70 :\n",
    "        grade_list.append(\"C\")\n",
    "    elif i >= 60 :\n",
    "        grade_list.append(\"D\")\n",
    "    else:\n",
    "        grade_list.append(\"F\")"
   ]
  },
  {
   "cell_type": "markdown",
   "metadata": {},
   "source": [
    "#### Score list에 평점 학점 넣기"
   ]
  },
  {
   "cell_type": "code",
   "execution_count": 81,
   "metadata": {},
   "outputs": [],
   "source": [
    "cnt=0\n",
    "\n",
    "for i in score_list:\n",
    "    i.append(avg_list[cnt])\n",
    "    i.append(grade_list[cnt])\n",
    "    \n",
    "    cnt+=1"
   ]
  },
  {
   "cell_type": "code",
   "execution_count": 82,
   "metadata": {
    "scrolled": true
   },
   "outputs": [
    {
     "data": {
      "text/plain": [
       "[['김미희', 89, 78, 99, 88, 'B'],\n",
       " ['황해도', 67, 88, 77, 77, 'C'],\n",
       " ['박병관', 100, 55, 96, 83, 'B'],\n",
       " ['김동원', 20, 10, 20, 16, 'F']]"
      ]
     },
     "execution_count": 82,
     "metadata": {},
     "output_type": "execute_result"
    }
   ],
   "source": [
    "score_list"
   ]
  },
  {
   "cell_type": "markdown",
   "metadata": {},
   "source": [
    "#### 예쁘게 출력"
   ]
  },
  {
   "cell_type": "code",
   "execution_count": 83,
   "metadata": {},
   "outputs": [
    {
     "name": "stdout",
     "output_type": "stream",
     "text": [
      "============================================\n",
      "이름   Python   Java    DB     평균     학점\n",
      "============================================\n",
      "김미희\t89\t78\t99\t88\tB\t\n",
      "황해도\t67\t88\t77\t77\tC\t\n",
      "박병관\t100\t55\t96\t83\tB\t\n",
      "김동원\t20\t10\t20\t16\tF\t\n"
     ]
    }
   ],
   "source": [
    "print(\"============================================\")\n",
    "print(\"이름   Python   Java    DB     평균     학점\")\n",
    "print(\"============================================\")\n",
    "\n",
    "for i in score_list:\n",
    "    for j in i:\n",
    "        print(j, end=\"\\t\")\n",
    "    print()"
   ]
  },
  {
   "cell_type": "code",
   "execution_count": 84,
   "metadata": {},
   "outputs": [],
   "source": [
    "avg2 = []\n",
    "\n",
    "for i in range(1,4):\n",
    "    sum2=0\n",
    "    for j in score_list:\n",
    "        sum2+= j[i]\n",
    "    avg2.append(int(sum2/len(score_list)))"
   ]
  },
  {
   "cell_type": "code",
   "execution_count": 85,
   "metadata": {},
   "outputs": [
    {
     "data": {
      "text/plain": [
       "4"
      ]
     },
     "execution_count": 85,
     "metadata": {},
     "output_type": "execute_result"
    }
   ],
   "source": [
    "len(score_list)"
   ]
  },
  {
   "cell_type": "code",
   "execution_count": 86,
   "metadata": {
    "scrolled": false
   },
   "outputs": [
    {
     "name": "stdout",
     "output_type": "stream",
     "text": [
      "============================================\n",
      "이름   Python   Java    DB     평균     학점\n",
      "============================================\n",
      "김미희\t89\t78\t99\t88\tB\t\n",
      "황해도\t67\t88\t77\t77\tC\t\n",
      "박병관\t100\t55\t96\t83\tB\t\n",
      "김동원\t20\t10\t20\t16\tF\t\n",
      "============================================\n",
      "평균\t69\t57\t73\t"
     ]
    }
   ],
   "source": [
    "print(\"============================================\")\n",
    "print(\"이름   Python   Java    DB     평균     학점\")\n",
    "print(\"============================================\")\n",
    "\n",
    "for i in score_list:\n",
    "    for j in i:\n",
    "        print(j, end=\"\\t\")\n",
    "    print()\n",
    "    \n",
    "print(\"============================================\")\n",
    "print(\"평균\", end = \"\\t\")\n",
    "for i in avg2:\n",
    "    print(i,end=\"\\t\")"
   ]
  },
  {
   "cell_type": "markdown",
   "metadata": {},
   "source": [
    "### 완전 수 구하기"
   ]
  },
  {
   "cell_type": "code",
   "execution_count": 96,
   "metadata": {},
   "outputs": [],
   "source": [
    "def getPerctNumber(x,y):\n",
    "    print(\"{}~{}까지의 완전수 : \".format(x,y), end=\"\")\n",
    "    for i in range(x,y+1):\n",
    "        sum=0\n",
    "        for j in range(1,i):\n",
    "            if (i%j==0):\n",
    "                sum+=j\n",
    "        if (sum==i):\n",
    "            print(i,end=\" \")"
   ]
  },
  {
   "cell_type": "code",
   "execution_count": 97,
   "metadata": {},
   "outputs": [
    {
     "name": "stdout",
     "output_type": "stream",
     "text": [
      "2~1000까지의 완전수 : 6 28 496 "
     ]
    }
   ],
   "source": [
    "startValue = 2\n",
    "endValue = 1000;\n",
    "\n",
    "getPerctNumber(startValue,endValue)"
   ]
  },
  {
   "cell_type": "code",
   "execution_count": null,
   "metadata": {},
   "outputs": [],
   "source": []
  },
  {
   "cell_type": "code",
   "execution_count": null,
   "metadata": {},
   "outputs": [],
   "source": []
  },
  {
   "cell_type": "code",
   "execution_count": null,
   "metadata": {},
   "outputs": [],
   "source": []
  },
  {
   "cell_type": "code",
   "execution_count": null,
   "metadata": {},
   "outputs": [],
   "source": []
  },
  {
   "cell_type": "code",
   "execution_count": null,
   "metadata": {},
   "outputs": [],
   "source": []
  }
 ],
 "metadata": {
  "kernelspec": {
   "display_name": "Python 3",
   "language": "python",
   "name": "python3"
  },
  "language_info": {
   "codemirror_mode": {
    "name": "ipython",
    "version": 3
   },
   "file_extension": ".py",
   "mimetype": "text/x-python",
   "name": "python",
   "nbconvert_exporter": "python",
   "pygments_lexer": "ipython3",
   "version": "3.8.3"
  }
 },
 "nbformat": 4,
 "nbformat_minor": 4
}
