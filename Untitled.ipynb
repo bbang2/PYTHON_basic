{
 "cells": [
  {
   "cell_type": "markdown",
   "metadata": {},
   "source": [
    "문제1"
   ]
  },
  {
   "cell_type": "markdown",
   "metadata": {},
   "source": [
    "김영승 31살"
   ]
  },
  {
   "cell_type": "markdown",
   "metadata": {},
   "source": [
    "문제2"
   ]
  },
  {
   "cell_type": "markdown",
   "metadata": {},
   "source": [
    "1. 파이썬은 인간다운 언어이다.\n",
    "2. 파이썬은 간결하다.\n",
    "3. 파이썬은 개발속도가 빠르다."
   ]
  },
  {
   "cell_type": "markdown",
   "metadata": {},
   "source": [
    "문제3"
   ]
  },
  {
   "cell_type": "markdown",
   "metadata": {},
   "source": [
    "1. 리스트 자료형 -> 숫자나 문자열로 표현할수있는 자료형\n",
    "2. 딕셔너리 자료형 -> 대응 관계를 나타낼수 있는 자료형\n",
    "3. 불 자료형 -> 참과 거짓을 나타낼수 있는 자료형"
   ]
  },
  {
   "cell_type": "markdown",
   "metadata": {},
   "source": [
    "문제4"
   ]
  },
  {
   "cell_type": "markdown",
   "metadata": {},
   "source": [
    "1. 포메팅 연산자(%) -> 문자열 안에 대입하여 넣는 자료형\n",
    "2. fomat함수 -> 좀 더 발전된 스타일로 문자열 포맷을 지정할 수 있다."
   ]
  },
  {
   "cell_type": "markdown",
   "metadata": {},
   "source": [
    "문제5"
   ]
  },
  {
   "cell_type": "markdown",
   "metadata": {},
   "source": [
    "1. 인덱싱 -> 무언가를 가리킨다.\n",
    "2. 슬라이싱 -> 무언가를 잘라낸다."
   ]
  },
  {
   "cell_type": "markdown",
   "metadata": {},
   "source": [
    "문제6"
   ]
  },
  {
   "cell_type": "markdown",
   "metadata": {},
   "source": [
    "1. while문 -> 언제 끝날지 모르는 반복해서 문장을 수행할 경우 사용\n",
    "2. for문 -> 파이썬의 직관적인 특징을 가장 잘 대변해 주는 것이 for문, for문은 매우 유용하고 문장 구조가 한눈에 쏙 들어온다는 장점이 있다."
   ]
  },
  {
   "cell_type": "markdown",
   "metadata": {},
   "source": [
    "문제7"
   ]
  },
  {
   "cell_type": "code",
   "execution_count": 5,
   "metadata": {},
   "outputs": [
    {
     "name": "stdout",
     "output_type": "stream",
     "text": [
      "====사칙연산(+,-,*,/)====\n",
      "첫 번째 정수 입력 : 5\n",
      "두 번째 정수 입력 : 13\n",
      "연산자 입력 : +\n",
      "연산결과 :  18\n"
     ]
    }
   ],
   "source": [
    "print(\"====사칙연산(+,-,*,/)====\")\n",
    "num1 = int(input(\"첫 번째 정수 입력 : \"))\n",
    "num2 = int(input(\"두 번째 정수 입력 : \"))\n",
    "op = input(\"연산자 입력 : \")\n",
    "\n",
    "if op == '+':\n",
    "    print(\"연산결과 : \",num1 + num2)\n",
    "elif op == '-':\n",
    "    print(\"연산결과 : \",num1 - num2)\n",
    "elif op == '*':\n",
    "    print(\"연산결과 : \",num1 * num2)\n",
    "elif op == '/':\n",
    "    print(\"연산결과 : \",num1 / num2)"
   ]
  },
  {
   "cell_type": "code",
   "execution_count": 6,
   "metadata": {},
   "outputs": [
    {
     "name": "stdout",
     "output_type": "stream",
     "text": [
      "====사칙연산(+,-,*,/)====\n",
      "첫 번째 정수 입력 : 5\n",
      "두 번째 정수 입력 : 7\n",
      "연산자 입력 : -\n",
      "연산결과 :  -2\n"
     ]
    }
   ],
   "source": [
    "print(\"====사칙연산(+,-,*,/)====\")\n",
    "num1 = int(input(\"첫 번째 정수 입력 : \"))\n",
    "num2 = int(input(\"두 번째 정수 입력 : \"))\n",
    "op = input(\"연산자 입력 : \")\n",
    "\n",
    "if op == '+':\n",
    "    print(\"연산결과 : \",num1 + num2)\n",
    "elif op == '-':\n",
    "    print(\"연산결과 : \",num1 - num2)\n",
    "elif op == '*':\n",
    "    print(\"연산결과 : \",num1 * num2)\n",
    "elif op == '/':\n",
    "    print(\"연산결과 : \",num1 / num2)"
   ]
  },
  {
   "cell_type": "code",
   "execution_count": 7,
   "metadata": {},
   "outputs": [
    {
     "name": "stdout",
     "output_type": "stream",
     "text": [
      "====사칙연산(+,-,*,/)====\n",
      "첫 번째 정수 입력 : 5\n",
      "두 번째 정수 입력 : 3\n",
      "연산자 입력 : *\n",
      "연산결과 :  15\n"
     ]
    }
   ],
   "source": [
    "print(\"====사칙연산(+,-,*,/)====\")\n",
    "num1 = int(input(\"첫 번째 정수 입력 : \"))\n",
    "num2 = int(input(\"두 번째 정수 입력 : \"))\n",
    "op = input(\"연산자 입력 : \")\n",
    "\n",
    "if op == '+':\n",
    "    print(\"연산결과 : \",num1 + num2)\n",
    "elif op == '-':\n",
    "    print(\"연산결과 : \",num1 - num2)\n",
    "elif op == '*':\n",
    "    print(\"연산결과 : \",num1 * num2)\n",
    "elif op == '/':\n",
    "    print(\"연산결과 : \",num1 / num2)"
   ]
  },
  {
   "cell_type": "code",
   "execution_count": 8,
   "metadata": {},
   "outputs": [
    {
     "name": "stdout",
     "output_type": "stream",
     "text": [
      "====사칙연산(+,-,*,/)====\n",
      "첫 번째 정수 입력 : 7\n",
      "두 번째 정수 입력 : 2\n",
      "연산자 입력 : /\n",
      "연산결과 :  3.5\n"
     ]
    }
   ],
   "source": [
    "print(\"====사칙연산(+,-,*,/)====\")\n",
    "num1 = int(input(\"첫 번째 정수 입력 : \"))\n",
    "num2 = int(input(\"두 번째 정수 입력 : \"))\n",
    "op = input(\"연산자 입력 : \")\n",
    "\n",
    "if op == '+':\n",
    "    print(\"연산결과 : \",num1 + num2)\n",
    "elif op == '-':\n",
    "    print(\"연산결과 : \",num1 - num2)\n",
    "elif op == '*':\n",
    "    print(\"연산결과 : \",num1 * num2)\n",
    "elif op == '/':\n",
    "    print(\"연산결과 : \",num1 / num2)"
   ]
  },
  {
   "cell_type": "code",
   "execution_count": 17,
   "metadata": {},
   "outputs": [
    {
     "name": "stdout",
     "output_type": "stream",
     "text": [
      "2*1=2  2*2=4  2*3=6  2*4=8  2*5=10  2*6=12  2*7=14  2*8=16  2*9=18  "
     ]
    }
   ],
   "source": [
    "for i in range(1,10):\n",
    "    print(\"2*{}={}\".format(i,2*i),end = \"  \")"
   ]
  },
  {
   "cell_type": "code",
   "execution_count": 80,
   "metadata": {},
   "outputs": [
    {
     "name": "stdout",
     "output_type": "stream",
     "text": [
      "2 * 1 = 2\t\t\t4 * 1 = 4\t\t\t6 * 1 = 6\t\t\t8 * 1 = 8\t\t\t2 * 2 = 4\t\t\t4 * 2 = 8\t\t\t6 * 2 = 12\t\t\t8 * 2 = 16\t\t\t2 * 3 = 6\t\t\t4 * 3 = 12\t\t\t6 * 3 = 18\t\t\t8 * 3 = 24\t\t\t2 * 4 = 8\t\t\t4 * 4 = 16\t\t\t6 * 4 = 24\t\t\t8 * 4 = 32\t\t\t2 * 5 = 10\t\t\t4 * 5 = 20\t\t\t6 * 5 = 30\t\t\t8 * 5 = 40\t\t\t2 * 6 = 12\t\t\t4 * 6 = 24\t\t\t6 * 6 = 36\t\t\t8 * 6 = 48\t\t\t2 * 7 = 14\t\t\t4 * 7 = 28\t\t\t6 * 7 = 42\t\t\t8 * 7 = 56\t\t\t2 * 8 = 16\t\t\t4 * 8 = 32\t\t\t6 * 8 = 48\t\t\t8 * 8 = 64\t\t\t2 * 9 = 18\t\t\t4 * 9 = 36\t\t\t6 * 9 = 54\t\t\t8 * 9 = 72\t\t\t"
     ]
    }
   ],
   "source": [
    "for i in range(1,10):\n",
    "    for j in range(2,10):\n",
    "        if j % 2 == 0:\n",
    "            print(\"{} * {} = {}\".format(j,i,i*j), end = '\\t\\t\\t')"
   ]
  },
  {
   "cell_type": "code",
   "execution_count": 28,
   "metadata": {},
   "outputs": [],
   "source": [
    "import random"
   ]
  },
  {
   "cell_type": "code",
   "execution_count": 29,
   "metadata": {},
   "outputs": [
    {
     "name": "stdout",
     "output_type": "stream",
     "text": [
      "홀수입니다.\n"
     ]
    }
   ],
   "source": [
    "a = random.randint(1,100)\n",
    "b = random.randint(1,100)\n",
    "\n",
    "if a > b:\n",
    "    a, b = b, a\n",
    "    if b / a and b%2 == 0:\n",
    "        print(\"짝수입니다.\")\n",
    "    else:\n",
    "        print(\"홀수입니다.\")"
   ]
  },
  {
   "cell_type": "code",
   "execution_count": 100,
   "metadata": {},
   "outputs": [
    {
     "name": "stdout",
     "output_type": "stream",
     "text": [
      "===================================\n",
      "이름  Python  Java  DB  평균  학점\n",
      "===================================\n",
      "['김미희', 89, 78, 99, 88]\n",
      "['황해도', 67, 88, 77, 77]\n",
      "['박병관', 100, 55, 96, 83]\n",
      "===================================\n",
      "평균\n"
     ]
    }
   ],
   "source": [
    "score_list = [[\"김미희\",89,78,99],[\"황해도\",67,88,77],[\"박병관\",100,55,96]]\n",
    "score_list[0].insert(4,(score_list[0][1]+score_list[0][2]+score_list[0][3])//3)\n",
    "score_list[1].insert(4,(score_list[1][1]+score_list[1][2]+score_list[1][3])//3)\n",
    "score_list[2].insert(4,(score_list[2][1]+score_list[2][2]+score_list[2][3])//3)\n",
    "print(\"===================================\")\n",
    "print(\"이름  Python  Java  DB  평균  학점\")\n",
    "print(\"===================================\")\n",
    "print(score_list[0][:])\n",
    "print(score_list[1][:])\n",
    "print(score_list[2][:])\n",
    "print(\"===================================\")\n",
    "print(\"평균\")"
   ]
  },
  {
   "cell_type": "code",
   "execution_count": 101,
   "metadata": {},
   "outputs": [
    {
     "name": "stdout",
     "output_type": "stream",
     "text": [
      "['김미희', 89, 78, 99, 88]\n",
      "['황해도', 67, 88, 77, 77]\n",
      "['박병관', 100, 55, 96, 83]\n"
     ]
    }
   ],
   "source": [
    "for i in score_list:\n",
    "    print(i)"
   ]
  },
  {
   "cell_type": "code",
   "execution_count": 92,
   "metadata": {},
   "outputs": [
    {
     "data": {
      "text/plain": [
       "['김미희', 89, 78, 99, 88.66666666666667]"
      ]
     },
     "execution_count": 92,
     "metadata": {},
     "output_type": "execute_result"
    }
   ],
   "source": [
    "if avg >= 90:\n",
    "    print(\"A\")\n",
    "elif avg >= 80:\n",
    "    print(\"B\")\n",
    "elif avg >= 70:\n",
    "    print(\"C\")\n",
    "elif avg >= 60:\n",
    "    print(\"D\")\n",
    "else:\n",
    "    print(\"F\")"
   ]
  },
  {
   "cell_type": "code",
   "execution_count": null,
   "metadata": {},
   "outputs": [],
   "source": []
  }
 ],
 "metadata": {
  "kernelspec": {
   "display_name": "Python 3",
   "language": "python",
   "name": "python3"
  },
  "language_info": {
   "codemirror_mode": {
    "name": "ipython",
    "version": 3
   },
   "file_extension": ".py",
   "mimetype": "text/x-python",
   "name": "python",
   "nbconvert_exporter": "python",
   "pygments_lexer": "ipython3",
   "version": "3.8.3"
  }
 },
 "nbformat": 4,
 "nbformat_minor": 4
}
