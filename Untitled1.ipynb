{
 "cells": [
  {
   "cell_type": "code",
   "execution_count": 1,
   "metadata": {},
   "outputs": [
    {
     "name": "stdout",
     "output_type": "stream",
     "text": [
      "=============================================\n",
      "이름\tPtyhon\tJava\tDB\t평균\t학점\n",
      "=============================================\n",
      "김미희\t89\t78\t99\t88\tB\n",
      "황해도\t67\t88\t77\t77\tC\n",
      "박병관\t100\t55\t96\t83\tB\n",
      "=============================================\n",
      "평균\t85\t73\t90\n"
     ]
    }
   ],
   "source": [
    "score_list = [\n",
    "    [\"김미희\", 89, 78, 99],\n",
    "    [\"황해도\", 67, 88, 77],\n",
    "    [\"박병관\", 100, 55, 96]\n",
    "]\n",
    "\n",
    "print(\"=============================================\")\n",
    "print(\"이름\\tPtyhon\\tJava\\tDB\\t평균\\t학점\")\n",
    "print(\"=============================================\")\n",
    "\n",
    "r_python = 0 \n",
    "r_java = 0 \n",
    "r_db = 0 \n",
    "\n",
    "for i in score_list:\n",
    "    \n",
    "    name = i[0]\n",
    "    python = i[1]\n",
    "    java = i[2]\n",
    "    db = i[3]\n",
    "    avg = (i[1]+i[2]+i[3])//3\n",
    "    r_python += i[1]\n",
    "    r_java += i[2]\n",
    "    r_db += i[3]\n",
    "    \n",
    "    if avg >= 90:\n",
    "        grade ='A'\n",
    "    elif avg >= 80:\n",
    "        grade ='B'\n",
    "    elif avg >= 70:\n",
    "        grade ='C'\n",
    "    elif avg >= 60:\n",
    "        grade ='D'\n",
    "    else:\n",
    "        grade ='F'\n",
    "\n",
    "    print(\"{}\\t{}\\t{}\\t{}\\t{}\\t{}\".format(name, python, java, db, round(avg,0), grade))\n",
    "\n",
    "avg_python = r_python//len(score_list)\n",
    "\n",
    "avg_java = r_java//len(score_list)\n",
    "\n",
    "avg_db = r_db//len(score_list)\n",
    "\n",
    "print(\"=============================================\")\n",
    "print(\"평균\\t{}\\t{}\\t{}\".format(avg_python,avg_java,avg_db))"
   ]
  },
  {
   "cell_type": "code",
   "execution_count": null,
   "metadata": {},
   "outputs": [],
   "source": []
  }
 ],
 "metadata": {
  "kernelspec": {
   "display_name": "Python 3",
   "language": "python",
   "name": "python3"
  },
  "language_info": {
   "codemirror_mode": {
    "name": "ipython",
    "version": 3
   },
   "file_extension": ".py",
   "mimetype": "text/x-python",
   "name": "python",
   "nbconvert_exporter": "python",
   "pygments_lexer": "ipython3",
   "version": "3.8.3"
  }
 },
 "nbformat": 4,
 "nbformat_minor": 4
}
